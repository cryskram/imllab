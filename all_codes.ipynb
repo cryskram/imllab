{
 "cells": [
  {
   "cell_type": "markdown",
   "id": "2b242108",
   "metadata": {},
   "source": [
    "### Find S"
   ]
  },
  {
   "cell_type": "code",
   "execution_count": null,
   "id": "511d6590",
   "metadata": {},
   "outputs": [],
   "source": [
    "import pandas as pd\n",
    "\n",
    "data = pd.read_csv(\"dataset.csv\")\n",
    "concepts = data.iloc[:, :-1].values\n",
    "target = data.iloc[:, -1].values\n",
    "\n",
    "\n",
    "def find_s(concepts, target):\n",
    "    hypo = concepts[0].copy()\n",
    "    for i in range(1, len(concepts)):\n",
    "        if target[i].lower() == \"yes\":\n",
    "            for j in range(len(hypo)):\n",
    "                if hypo[j] != concepts[i][j]:\n",
    "                    hypo[j] = \"?\"\n",
    "\n",
    "    return hypo\n",
    "\n",
    "\n",
    "result = find_s(concepts, target)\n",
    "print(\"Final hypothesis: \", result)"
   ]
  },
  {
   "cell_type": "code",
   "execution_count": null,
   "id": "9e6e02ec",
   "metadata": {},
   "outputs": [],
   "source": []
  }
 ],
 "metadata": {
  "kernelspec": {
   "display_name": "imllab-17F9hSNY",
   "language": "python",
   "name": "python3"
  },
  "language_info": {
   "name": "python",
   "version": "3.13.3"
  }
 },
 "nbformat": 4,
 "nbformat_minor": 5
}
